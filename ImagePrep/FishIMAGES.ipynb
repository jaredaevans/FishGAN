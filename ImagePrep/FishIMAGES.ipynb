{
 "cells": [
  {
   "cell_type": "markdown",
   "metadata": {},
   "source": [
    "# Fish Image Processor\n",
    "\n",
    "Process and clea files to make them suitable for the GAN"
   ]
  },
  {
   "cell_type": "markdown",
   "metadata": {},
   "source": [
    "## Exploring the data"
   ]
  },
  {
   "cell_type": "code",
   "execution_count": null,
   "metadata": {},
   "outputs": [],
   "source": [
    "import numpy as np  \n",
    "import pandas as pd \n",
    "import matplotlib.pyplot as plt\n",
    "import os\n",
    "import glob\n",
    "import math\n",
    "import random\n",
    "import time\n",
    "import datetime\n",
    "import shutil\n",
    "import imageio\n",
    "from tqdm import tqdm, tqdm_notebook\n",
    "\n",
    "#from dataclasses import dataclass\n",
    "from pathlib import Path\n",
    "import warnings\n",
    "#from scipy import linalg\n",
    "\n",
    "#import xml.etree.ElementTree as ET \n",
    "\n",
    "import cv2\n",
    "from PIL import Image\n",
    "\n",
    "print(os.listdir(\"./\"))"
   ]
  },
  {
   "cell_type": "code",
   "execution_count": null,
   "metadata": {},
   "outputs": [],
   "source": [
    "WebFishDIR='./GrabbedFromWeb/'\n",
    "WebFishDIRback='./GrabbedFromWebBack/'\n",
    "NewLabeledFishDIR='./NewLabeledFish/'\n",
    "ProcessedFishDIR='./ProcessedFish/'\n",
    "ProcessedFishDIR='./CustomFish/'"
   ]
  },
  {
   "cell_type": "code",
   "execution_count": null,
   "metadata": {},
   "outputs": [],
   "source": [
    "def read_image(src):\n",
    "    img = cv2.imread(src)\n",
    "    if img is None:\n",
    "        print(src)\n",
    "        raise FileNotFoundError\n",
    "    img = cv2.cvtColor(img, cv2.COLOR_BGR2RGB)\n",
    "    return img\n",
    "\n",
    "def write_image(img,filename):\n",
    "    img = cv2.cvtColor(img, cv2.COLOR_RGB2BGR)\n",
    "    cv2.imwrite(filename, img)"
   ]
  },
  {
   "cell_type": "markdown",
   "metadata": {},
   "source": [
    "# Combine and edit files\n",
    "\n",
    "Convert all files to a 64x64 fish image"
   ]
  },
  {
   "cell_type": "code",
   "execution_count": null,
   "metadata": {},
   "outputs": [],
   "source": [
    "def getNewFishFileName(idVal):\n",
    "    defaultHead = 'D0000'\n",
    "    curname = str(idVal)\n",
    "    newString = defaultHead[:5-len(curname)]+curname+'.jpg'\n",
    "    return newString"
   ]
  },
  {
   "cell_type": "code",
   "execution_count": null,
   "metadata": {},
   "outputs": [],
   "source": [
    "# custom padding routine to expand edges in a way that is less prone to introducing noisy \n",
    "# behaviors that the GAN could target, such as sharp vertical and horizontal lines\n",
    "def padbycounter(line,count):\n",
    "    if count == 0:\n",
    "        return line\n",
    "    if count < 0:\n",
    "        line = np.concatenate((cv2.flip(line[1:-count+1],0),line[:count]))\n",
    "    elif count > 0:\n",
    "        line = np.concatenate((line[count:],cv2.flip(line[-count-1:-1],0)))\n",
    "    return line\n",
    "\n",
    "def custpad(img, padding, ldown, FADETOAV = True, RANDOMDRIFT = True, RNDRANGE = 4):\n",
    "    flipped = False\n",
    "    #for fading, drift to this average\n",
    "    paddown = cv2.flip(padding, 0)[1:]\n",
    "    while len(paddown) < ldown:\n",
    "        if flipped:\n",
    "            paddown = np.concatenate((paddown,cv2.flip(padding, 0)[1:]))\n",
    "        else:\n",
    "            paddown = np.concatenate((paddown,padding))\n",
    "        flipped = not flipped\n",
    "    paddown = paddown[:ldown]\n",
    "    if FADETOAV:\n",
    "        padav = (np.round(np.sum(img[-1], axis=0)/len(img[-1]))).astype(int)\n",
    "        for i in range(len(paddown)):\n",
    "            paddown[i] = np.round(paddown[i]*1.*(ldown - i)/ldown + 1.*padav*i/ldown).astype(int)\n",
    "    if RANDOMDRIFT:\n",
    "        counter = 0\n",
    "        for i in range(len(paddown)):\n",
    "            counter += (random.randint(-RNDRANGE, RNDRANGE))\n",
    "            paddown[i] = padbycounter(paddown[i],counter)\n",
    "    return np.concatenate((img, paddown))\n",
    "        \n",
    "def imageSculptor(img, PIXELGAP = 10):\n",
    "    x = len(img[0])\n",
    "    y = len(img)\n",
    "    flipping = x < y\n",
    "    if flipping:\n",
    "        img = cv2.rotate(img, cv2.ROTATE_90_CLOCKWISE)\n",
    "    p = abs(x-y)/2\n",
    "    ldown = int(np.floor(p))\n",
    "    downpad = img[-PIXELGAP:]\n",
    "    #print(\"{} {} {}\".format(x,y,p))\n",
    "    img = custpad(img, downpad, ldown)\n",
    "    lup = int(np.ceil(p))\n",
    "    img = cv2.flip(img, 0)\n",
    "    uppad = img[-PIXELGAP:]\n",
    "    img = cv2.flip(custpad(img, uppad, lup), 0)\n",
    "    if flipping:\n",
    "        img = cv2.rotate(img, cv2.ROTATE_90_COUNTERCLOCKWISE)\n",
    "    return img"
   ]
  },
  {
   "cell_type": "code",
   "execution_count": null,
   "metadata": {},
   "outputs": [],
   "source": [
    "plt.imshow(imageSculptor(img))"
   ]
  },
  {
   "cell_type": "code",
   "execution_count": null,
   "metadata": {},
   "outputs": [],
   "source": [
    "def fixAspectAndScale(img,SIZE = 128): #,inter = cv2.INTER_AREA\n",
    "    # pad edges with replicate to fix, then scale\n",
    "    replicate = imageSculptor(img)\n",
    "    #Note:  designing a more sophisticated treatment for this to remove stark vertical or horizontal lines\n",
    "    #replicate = cv2.copyMakeBorder(img,yu,yb,xl,xr,cv2.BORDER_REPLICATE)\n",
    "    if len(replicate) > SIZE:\n",
    "        resized = cv2.resize(replicate,(SIZE,SIZE),interpolation = cv2.INTER_CUBIC)\n",
    "    else:\n",
    "        resized = cv2.resize(replicate,(SIZE,SIZE),interpolation = cv2.INTER_CUBIC)\n",
    "    return resized"
   ]
  },
  {
   "cell_type": "code",
   "execution_count": null,
   "metadata": {},
   "outputs": [],
   "source": [
    "AllWebFiles = os.listdir(WebFishDIR)\n",
    "AllNLFFiles = os.listdir(NewLabeledFishDIR)\n",
    "imgID=0"
   ]
  },
  {
   "cell_type": "code",
   "execution_count": null,
   "metadata": {},
   "outputs": [],
   "source": [
    "aspectRatioSpread = []\n",
    "for file in AllWebFiles:\n",
    "    filename = WebFishDIR+file\n",
    "    img = read_image(filename)\n",
    "    aspectRatioSpread.append((1.*len(img[0]))/(1.*len(img)))\n",
    "for file in AllNLFFiles:\n",
    "    filename = NewLabeledFishDIR+file\n",
    "    img = read_image(filename)\n",
    "    aspectRatioSpread.append((1.*len(img[0]))/(1.*len(img)))\n",
    "plt.hist(aspectRatioSpread)"
   ]
  },
  {
   "cell_type": "code",
   "execution_count": null,
   "metadata": {},
   "outputs": [],
   "source": [
    "imgID=0"
   ]
  },
  {
   "cell_type": "code",
   "execution_count": null,
   "metadata": {},
   "outputs": [],
   "source": [
    "print(AllWebFiles[imgID])\n",
    "print(imgID)\n",
    "filename = WebFishDIR+AllWebFiles[imgID]\n",
    "img = read_image(filename)\n",
    "imgID+=1\n",
    "plt.imshow(img)"
   ]
  },
  {
   "cell_type": "code",
   "execution_count": null,
   "metadata": {},
   "outputs": [],
   "source": [
    "newimg = fixAspectAndScale(img)\n",
    "plt.imshow(newimg)"
   ]
  },
  {
   "cell_type": "markdown",
   "metadata": {},
   "source": [
    "Using INTER_AREA for resizing blurs out fine features, particularly scales, on the fish more than INTER_CUBIC.  INTER_CUBIC seems to perform better on small resizings especially.  Larger resizings have INTER_AREA doing a bit better."
   ]
  },
  {
   "cell_type": "code",
   "execution_count": null,
   "metadata": {},
   "outputs": [],
   "source": [
    "idVal=0"
   ]
  },
  {
   "cell_type": "code",
   "execution_count": null,
   "metadata": {},
   "outputs": [],
   "source": [
    "for file in AllWebFiles:\n",
    "    filename = WebFishDIR+file\n",
    "    img = read_image(filename)\n",
    "    newimg = fixAspectAndScale(img)\n",
    "    newfn = ProcessedFishDIR + getNewFishFileName(idVal)\n",
    "    write_image(newimg,newfn)\n",
    "    idVal+=1\n",
    "for file in AllNLFFiles:\n",
    "    filename = NewLabeledFishDIR+file\n",
    "    img = read_image(filename)\n",
    "    newimg = fixAspectAndScale(img)\n",
    "    newfn = ProcessedFishDIR + getNewFishFileName(idVal)\n",
    "    write_image(newimg,newfn)\n",
    "    idVal+=1"
   ]
  },
  {
   "cell_type": "code",
   "execution_count": null,
   "metadata": {},
   "outputs": [],
   "source": [
    "idVal = 609\n",
    "for file in NewFiles:\n",
    "    filename = WebFishDIR+file\n",
    "    img = read_image(filename)\n",
    "    newimg = fixAspectAndScale(img)\n",
    "    newfn = ProcessedFishDIR + getNewFishFileName(idVal)\n",
    "    write_image(newimg,newfn)\n",
    "    idVal+=1"
   ]
  },
  {
   "cell_type": "markdown",
   "metadata": {},
   "source": [
    "### Examine and clean webfiles (done)"
   ]
  },
  {
   "cell_type": "code",
   "execution_count": null,
   "metadata": {},
   "outputs": [],
   "source": [
    "AllWebFiles = os.listdir(WebFishDIR)\n",
    "imgID=1"
   ]
  },
  {
   "cell_type": "code",
   "execution_count": null,
   "metadata": {},
   "outputs": [],
   "source": [
    "AllWebFiles.sort()"
   ]
  },
  {
   "cell_type": "code",
   "execution_count": null,
   "metadata": {},
   "outputs": [],
   "source": [
    "NewFiles = AllWebFiles[524:]"
   ]
  },
  {
   "cell_type": "code",
   "execution_count": null,
   "metadata": {},
   "outputs": [],
   "source": [
    "imgID=286"
   ]
  },
  {
   "cell_type": "code",
   "execution_count": null,
   "metadata": {},
   "outputs": [],
   "source": [
    "print(\"{} {}\".format(len(img),len(img[0])))"
   ]
  },
  {
   "cell_type": "code",
   "execution_count": null,
   "metadata": {},
   "outputs": [],
   "source": [
    "print(NewFiles[imgID])\n",
    "print(imgID)\n",
    "filename = WebFishDIR+NewFiles[imgID]\n",
    "img = read_image(filename)\n",
    "imgID+=1\n",
    "plt.imshow(img)"
   ]
  },
  {
   "cell_type": "code",
   "execution_count": null,
   "metadata": {},
   "outputs": [],
   "source": [
    "#fish = img[2:-5,2:-2]\n",
    "fish = img[0:,0:250]\n",
    "plt.imshow(fish)"
   ]
  },
  {
   "cell_type": "code",
   "execution_count": null,
   "metadata": {},
   "outputs": [],
   "source": [
    "write_image(fish,filename)"
   ]
  },
  {
   "cell_type": "code",
   "execution_count": null,
   "metadata": {},
   "outputs": [],
   "source": [
    "#write_image(fish,\"./GrabbedFromWeb/AA0416.jpg\")"
   ]
  },
  {
   "cell_type": "code",
   "execution_count": null,
   "metadata": {},
   "outputs": [],
   "source": [
    "os.remove(filename)"
   ]
  },
  {
   "cell_type": "markdown",
   "metadata": {},
   "source": [
    "Find repeated files"
   ]
  },
  {
   "cell_type": "code",
   "execution_count": null,
   "metadata": {},
   "outputs": [],
   "source": [
    "listofrepeats = []\n",
    "for i in range(0,len(OldFiles)):\n",
    "    filenamei = WebFishDIRback+OldFiles[i]\n",
    "    imgi = read_image(filenamei)\n",
    "    for j in range(0,len(NewFiles)):\n",
    "        filenamej = WebFishDIR+NewFiles[j]\n",
    "        imgj = read_image(filenamej)\n",
    "        if len(imgi) == len(imgj):\n",
    "            if len(imgi[0]) == len(imgj[0]):\n",
    "                if (imgi == imgj).all():\n",
    "                    listofrepeats.append([filenamei,filenamej])\n",
    "                    print(filenamei + \" : \" + filenamej)"
   ]
  },
  {
   "cell_type": "code",
   "execution_count": null,
   "metadata": {},
   "outputs": [],
   "source": [
    "for i in range(0,len(NewFiles)):\n",
    "    filenamei = WebFishDIR+NewFiles[i]\n",
    "    imgi = read_image(filenamei)\n",
    "    for j in range(i+1,len(NewFiles)):\n",
    "        filenamej = WebFishDIR+NewFiles[j]\n",
    "        imgj = read_image(filenamej)\n",
    "        if len(imgi) == len(imgj):\n",
    "            if len(imgi[0]) == len(imgj[0]):\n",
    "                if (imgi == imgj).all():\n",
    "                    listofrepeats.append([filenamei,filenamej])\n",
    "                    print(filenamei + \" : \" + filenamej)"
   ]
  },
  {
   "cell_type": "code",
   "execution_count": null,
   "metadata": {},
   "outputs": [],
   "source": [
    "tosslistx = []\n",
    "for tosslist in listofrepeats:\n",
    "    #filetotoss = WebFishDIR+tosslist[1][21:]\n",
    "    filetotoss = tosslist[1]\n",
    "    tosslistx.append(filetotoss)"
   ]
  },
  {
   "cell_type": "code",
   "execution_count": null,
   "metadata": {},
   "outputs": [],
   "source": [
    "for i in tosslistx:\n",
    "    try:\n",
    "        os.remove(i)\n",
    "    except:\n",
    "        pass"
   ]
  },
  {
   "cell_type": "markdown",
   "metadata": {},
   "source": [
    "### Process Labeled Fish sample into a useful form (parent files removed)"
   ]
  },
  {
   "cell_type": "code",
   "execution_count": null,
   "metadata": {},
   "outputs": [],
   "source": [
    "def getNewFishFileName(idVal):\n",
    "    defaultHead = 'C0000'\n",
    "    curname = str(idVal)\n",
    "    newString = defaultHead[:5-len(curname)]+curname+'.jpg'\n",
    "    return newString\n",
    "IDVal=1\n",
    "imgID=0\n",
    "\n",
    "AllLFFiles = os.listdir(LabeledFishDIR)"
   ]
  },
  {
   "cell_type": "code",
   "execution_count": null,
   "metadata": {},
   "outputs": [],
   "source": [
    "imgID=1254"
   ]
  },
  {
   "cell_type": "code",
   "execution_count": null,
   "metadata": {},
   "outputs": [],
   "source": [
    "imgID+=1\n",
    "print(AllLFFiles[imgID])\n",
    "print(imgID)\n",
    "img = read_image(LabeledFishDIR+AllLFFiles[imgID])\n",
    "plt.imshow(img)"
   ]
  },
  {
   "cell_type": "code",
   "execution_count": null,
   "metadata": {},
   "outputs": [],
   "source": [
    "fish = img[150:400,300:750]\n",
    "plt.imshow(fish)"
   ]
  },
  {
   "cell_type": "code",
   "execution_count": null,
   "metadata": {},
   "outputs": [],
   "source": [
    "filename = getNewFishFileName(IDVal)\n",
    "IDVal+=1\n",
    "print(IDVal)\n",
    "write_image(fish,filename)"
   ]
  }
 ],
 "metadata": {
  "kernelspec": {
   "display_name": "Python 3",
   "language": "python",
   "name": "python3"
  },
  "language_info": {
   "codemirror_mode": {
    "name": "ipython",
    "version": 3
   },
   "file_extension": ".py",
   "mimetype": "text/x-python",
   "name": "python",
   "nbconvert_exporter": "python",
   "pygments_lexer": "ipython3",
   "version": "3.7.3"
  }
 },
 "nbformat": 4,
 "nbformat_minor": 4
}
